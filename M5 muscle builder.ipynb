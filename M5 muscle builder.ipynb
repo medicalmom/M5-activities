{
 "cells": [
  {
   "cell_type": "markdown",
   "metadata": {},
   "source": [
    "## Assignment for Module 5\n",
    "\n",
    "### Kristin Medlin, week of September 29, 2019\n",
    "\n",
    "### This work is with the New York City Gas Consumption Data Set. #### The information can be accessed at https://data.cityofnewyork.us/Environment/Natural-Gas-Consumption-by-ZIP-Code-2010/uedp-fegm/data \n",
    "#### We will load the data and then explore the information to discover more information.\n",
    "\n",
    "##### Use first import pandas and then read_csv to load the data set. "
   ]
  },
  {
   "cell_type": "code",
   "execution_count": 44,
   "metadata": {},
   "outputs": [],
   "source": [
    "import pandas as pd\n",
    "nyc_gas = pd.read_csv(\"https://data.cityofnewyork.us/api/views/uedp-fegm/rows.csv?accesstype=DOWNLOAD\")"
   ]
  },
  {
   "cell_type": "markdown",
   "metadata": {},
   "source": [
    "##### Look at the information in the data set to better understand what is contained in this set. Use .head and the number for the rows to look at. "
   ]
  },
  {
   "cell_type": "code",
   "execution_count": 45,
   "metadata": {},
   "outputs": [
    {
     "data": {
      "text/html": [
       "<div>\n",
       "<style scoped>\n",
       "    .dataframe tbody tr th:only-of-type {\n",
       "        vertical-align: middle;\n",
       "    }\n",
       "\n",
       "    .dataframe tbody tr th {\n",
       "        vertical-align: top;\n",
       "    }\n",
       "\n",
       "    .dataframe thead th {\n",
       "        text-align: right;\n",
       "    }\n",
       "</style>\n",
       "<table border=\"1\" class=\"dataframe\">\n",
       "  <thead>\n",
       "    <tr style=\"text-align: right;\">\n",
       "      <th></th>\n",
       "      <th>Zip Code</th>\n",
       "      <th>Building type (service class</th>\n",
       "      <th>Consumption (therms)</th>\n",
       "      <th>Consumption (GJ)</th>\n",
       "      <th>Utility/Data Source</th>\n",
       "    </tr>\n",
       "  </thead>\n",
       "  <tbody>\n",
       "    <tr>\n",
       "      <th>0</th>\n",
       "      <td>10300</td>\n",
       "      <td>Commercial</td>\n",
       "      <td>470.0</td>\n",
       "      <td>50.0</td>\n",
       "      <td>National Grid</td>\n",
       "    </tr>\n",
       "    <tr>\n",
       "      <th>1</th>\n",
       "      <td>10335</td>\n",
       "      <td>Commercial</td>\n",
       "      <td>647.0</td>\n",
       "      <td>68.0</td>\n",
       "      <td>National Grid</td>\n",
       "    </tr>\n",
       "    <tr>\n",
       "      <th>2</th>\n",
       "      <td>10360</td>\n",
       "      <td>Large residential</td>\n",
       "      <td>33762.0</td>\n",
       "      <td>3562.0</td>\n",
       "      <td>National Grid</td>\n",
       "    </tr>\n",
       "    <tr>\n",
       "      <th>3</th>\n",
       "      <td>11200</td>\n",
       "      <td>Commercial</td>\n",
       "      <td>32125.0</td>\n",
       "      <td>3389.0</td>\n",
       "      <td>National Grid</td>\n",
       "    </tr>\n",
       "    <tr>\n",
       "      <th>4</th>\n",
       "      <td>11200</td>\n",
       "      <td>Institutional</td>\n",
       "      <td>3605.0</td>\n",
       "      <td>380.0</td>\n",
       "      <td>National Grid</td>\n",
       "    </tr>\n",
       "    <tr>\n",
       "      <th>5</th>\n",
       "      <td>11200</td>\n",
       "      <td>Small residential</td>\n",
       "      <td>3960.0</td>\n",
       "      <td>418.0</td>\n",
       "      <td>National Grid</td>\n",
       "    </tr>\n",
       "    <tr>\n",
       "      <th>6</th>\n",
       "      <td>11254</td>\n",
       "      <td>Small residential</td>\n",
       "      <td>1896.0</td>\n",
       "      <td>200.0</td>\n",
       "      <td>National Grid</td>\n",
       "    </tr>\n",
       "    <tr>\n",
       "      <th>7</th>\n",
       "      <td>11274</td>\n",
       "      <td>Commercial</td>\n",
       "      <td>8364.0</td>\n",
       "      <td>882.0</td>\n",
       "      <td>National Grid</td>\n",
       "    </tr>\n",
       "    <tr>\n",
       "      <th>8</th>\n",
       "      <td>11279</td>\n",
       "      <td>Commercial</td>\n",
       "      <td>2579.0</td>\n",
       "      <td>272.0</td>\n",
       "      <td>National Grid</td>\n",
       "    </tr>\n",
       "    <tr>\n",
       "      <th>9</th>\n",
       "      <td>11279</td>\n",
       "      <td>Large residential</td>\n",
       "      <td>301.0</td>\n",
       "      <td>32.0</td>\n",
       "      <td>National Grid</td>\n",
       "    </tr>\n",
       "  </tbody>\n",
       "</table>\n",
       "</div>"
      ],
      "text/plain": [
       "  Zip Code Building type (service class   Consumption (therms)   \\\n",
       "0    10300                   Commercial                   470.0   \n",
       "1    10335                   Commercial                   647.0   \n",
       "2    10360            Large residential                 33762.0   \n",
       "3    11200                   Commercial                 32125.0   \n",
       "4    11200                Institutional                  3605.0   \n",
       "5    11200            Small residential                  3960.0   \n",
       "6    11254            Small residential                  1896.0   \n",
       "7    11274                   Commercial                  8364.0   \n",
       "8    11279                   Commercial                  2579.0   \n",
       "9    11279            Large residential                   301.0   \n",
       "\n",
       "    Consumption (GJ)  Utility/Data Source  \n",
       "0                50.0       National Grid  \n",
       "1                68.0       National Grid  \n",
       "2              3562.0       National Grid  \n",
       "3              3389.0       National Grid  \n",
       "4               380.0       National Grid  \n",
       "5               418.0       National Grid  \n",
       "6               200.0       National Grid  \n",
       "7               882.0       National Grid  \n",
       "8               272.0       National Grid  \n",
       "9                32.0       National Grid  "
      ]
     },
     "execution_count": 45,
     "metadata": {},
     "output_type": "execute_result"
    }
   ],
   "source": [
    "nyc_gas.head(10)"
   ]
  },
  {
   "cell_type": "markdown",
   "metadata": {},
   "source": [
    "##### The data set contains data in columns for zip code, type of business served, consumption in therms for that location, consumption in GJ, and source of the information. "
   ]
  },
  {
   "cell_type": "markdown",
   "metadata": {},
   "source": [
    "###### Look at the shape to see the number of rows and columns. Use .shape to see this."
   ]
  },
  {
   "cell_type": "code",
   "execution_count": 46,
   "metadata": {},
   "outputs": [
    {
     "data": {
      "text/plain": [
       "(1015, 5)"
      ]
     },
     "execution_count": 46,
     "metadata": {},
     "output_type": "execute_result"
    }
   ],
   "source": [
    "nyc_gas.shape\n"
   ]
  },
  {
   "cell_type": "code",
   "execution_count": 47,
   "metadata": {},
   "outputs": [
    {
     "data": {
      "text/plain": [
       "array([['10300', 'Commercial', 470.0, 50.0, 'National Grid'],\n",
       "       ['10335', 'Commercial', 647.0, 68.0, 'National Grid'],\n",
       "       ['10360', 'Large residential', 33762.0, 3562.0, 'National Grid'],\n",
       "       ...,\n",
       "       ['11434(40.676945262114, -73.775306901692)', 'Large residential',\n",
       "        38846378.0, 4098510.0, 'National Grid'],\n",
       "       ['11221(40.691288039511, -73.927617927925)', 'Large residential',\n",
       "        8523704.0, 899299.0, 'National Grid'],\n",
       "       ['10474(40.810882923108, -73.882356362356)', 'Commercial',\n",
       "        3122702.0, 329463.0, 'ConEd']], dtype=object)"
      ]
     },
     "execution_count": 47,
     "metadata": {},
     "output_type": "execute_result"
    }
   ],
   "source": [
    "nyc_gas.values"
   ]
  },
  {
   "cell_type": "markdown",
   "metadata": {},
   "source": [
    "##### We can find the labels for the columns. "
   ]
  },
  {
   "cell_type": "code",
   "execution_count": 48,
   "metadata": {},
   "outputs": [
    {
     "data": {
      "text/plain": [
       "Index(['Zip Code', 'Building type (service class', ' Consumption (therms) ',\n",
       "       ' Consumption (GJ) ', 'Utility/Data Source'],\n",
       "      dtype='object')"
      ]
     },
     "execution_count": 48,
     "metadata": {},
     "output_type": "execute_result"
    }
   ],
   "source": [
    " nyc_gas.columns"
   ]
  },
  {
   "cell_type": "code",
   "execution_count": 49,
   "metadata": {},
   "outputs": [
    {
     "data": {
      "text/plain": [
       "['Zip Code',\n",
       " 'Building type (service class',\n",
       " ' Consumption (therms) ',\n",
       " ' Consumption (GJ) ',\n",
       " 'Utility/Data Source']"
      ]
     },
     "execution_count": 49,
     "metadata": {},
     "output_type": "execute_result"
    }
   ],
   "source": [
    "list(nyc_gas.columns)"
   ]
  },
  {
   "cell_type": "markdown",
   "metadata": {},
   "source": [
    "##### Rename the columns to make easier to work with in our program. Make a list that puts a new label in place of the old name. "
   ]
  },
  {
   "cell_type": "code",
   "execution_count": 50,
   "metadata": {},
   "outputs": [],
   "source": [
    "new_labels = {'Zip Code' : \"zip\", 'Building type (service class' : \"building_type\", ' Consumption (therms) ' : \"consumption_therms\", ' Consumption (GJ) ' : \"consumption_gj\", 'Utility/Data Source' : \"utility_reporter\"}\n",
    "nyc_gas = nyc_gas.rename(columns = new_labels )"
   ]
  },
  {
   "cell_type": "code",
   "execution_count": 51,
   "metadata": {
    "scrolled": true
   },
   "outputs": [
    {
     "data": {
      "text/html": [
       "<div>\n",
       "<style scoped>\n",
       "    .dataframe tbody tr th:only-of-type {\n",
       "        vertical-align: middle;\n",
       "    }\n",
       "\n",
       "    .dataframe tbody tr th {\n",
       "        vertical-align: top;\n",
       "    }\n",
       "\n",
       "    .dataframe thead th {\n",
       "        text-align: right;\n",
       "    }\n",
       "</style>\n",
       "<table border=\"1\" class=\"dataframe\">\n",
       "  <thead>\n",
       "    <tr style=\"text-align: right;\">\n",
       "      <th></th>\n",
       "      <th>zip</th>\n",
       "      <th>building_type</th>\n",
       "      <th>consumption_therms</th>\n",
       "      <th>consumption_gj</th>\n",
       "      <th>utility_reporter</th>\n",
       "    </tr>\n",
       "  </thead>\n",
       "  <tbody>\n",
       "    <tr>\n",
       "      <th>0</th>\n",
       "      <td>10300</td>\n",
       "      <td>Commercial</td>\n",
       "      <td>470.0</td>\n",
       "      <td>50.0</td>\n",
       "      <td>National Grid</td>\n",
       "    </tr>\n",
       "    <tr>\n",
       "      <th>1</th>\n",
       "      <td>10335</td>\n",
       "      <td>Commercial</td>\n",
       "      <td>647.0</td>\n",
       "      <td>68.0</td>\n",
       "      <td>National Grid</td>\n",
       "    </tr>\n",
       "    <tr>\n",
       "      <th>2</th>\n",
       "      <td>10360</td>\n",
       "      <td>Large residential</td>\n",
       "      <td>33762.0</td>\n",
       "      <td>3562.0</td>\n",
       "      <td>National Grid</td>\n",
       "    </tr>\n",
       "    <tr>\n",
       "      <th>3</th>\n",
       "      <td>11200</td>\n",
       "      <td>Commercial</td>\n",
       "      <td>32125.0</td>\n",
       "      <td>3389.0</td>\n",
       "      <td>National Grid</td>\n",
       "    </tr>\n",
       "    <tr>\n",
       "      <th>4</th>\n",
       "      <td>11200</td>\n",
       "      <td>Institutional</td>\n",
       "      <td>3605.0</td>\n",
       "      <td>380.0</td>\n",
       "      <td>National Grid</td>\n",
       "    </tr>\n",
       "  </tbody>\n",
       "</table>\n",
       "</div>"
      ],
      "text/plain": [
       "     zip      building_type  consumption_therms  consumption_gj  \\\n",
       "0  10300         Commercial               470.0            50.0   \n",
       "1  10335         Commercial               647.0            68.0   \n",
       "2  10360  Large residential             33762.0          3562.0   \n",
       "3  11200         Commercial             32125.0          3389.0   \n",
       "4  11200      Institutional              3605.0           380.0   \n",
       "\n",
       "  utility_reporter  \n",
       "0    National Grid  \n",
       "1    National Grid  \n",
       "2    National Grid  \n",
       "3    National Grid  \n",
       "4    National Grid  "
      ]
     },
     "execution_count": 51,
     "metadata": {},
     "output_type": "execute_result"
    }
   ],
   "source": [
    "nyc_gas.head()"
   ]
  },
  {
   "cell_type": "markdown",
   "metadata": {},
   "source": [
    "### We will look at some information on each of these columns.\n",
    "\n",
    "###### How many different unique types of service types are there, what is the median energy use for each, and how do they compare. "
   ]
  },
  {
   "cell_type": "code",
   "execution_count": 98,
   "metadata": {},
   "outputs": [
    {
     "data": {
      "text/plain": [
       "array(['Commercial', 'Large residential', 'Institutional',\n",
       "       'Small residential', 'Industrial', 'Large Residential',\n",
       "       'Residential'], dtype=object)"
      ]
     },
     "execution_count": 98,
     "metadata": {},
     "output_type": "execute_result"
    }
   ],
   "source": [
    "nyc_gas['building_type'].unique()"
   ]
  },
  {
   "cell_type": "markdown",
   "metadata": {},
   "source": [
    "### I want to filter the data so that I have a data frame with each unique service type, one for commerical, large residential, institutional, small residential, industrial, and residential. I would like to combine the two groups Large residential and Large Residential. "
   ]
  },
  {
   "cell_type": "code",
   "execution_count": 99,
   "metadata": {},
   "outputs": [
    {
     "data": {
      "text/html": [
       "<div>\n",
       "<style scoped>\n",
       "    .dataframe tbody tr th:only-of-type {\n",
       "        vertical-align: middle;\n",
       "    }\n",
       "\n",
       "    .dataframe tbody tr th {\n",
       "        vertical-align: top;\n",
       "    }\n",
       "\n",
       "    .dataframe thead th {\n",
       "        text-align: right;\n",
       "    }\n",
       "</style>\n",
       "<table border=\"1\" class=\"dataframe\">\n",
       "  <thead>\n",
       "    <tr style=\"text-align: right;\">\n",
       "      <th></th>\n",
       "      <th>zip</th>\n",
       "      <th>building_type</th>\n",
       "      <th>consumption_therms</th>\n",
       "      <th>consumption_gj</th>\n",
       "      <th>utility_reporter</th>\n",
       "    </tr>\n",
       "  </thead>\n",
       "  <tbody>\n",
       "    <tr>\n",
       "      <th>0</th>\n",
       "      <td>10300</td>\n",
       "      <td>Commercial</td>\n",
       "      <td>470.0</td>\n",
       "      <td>50.0</td>\n",
       "      <td>National Grid</td>\n",
       "    </tr>\n",
       "    <tr>\n",
       "      <th>1</th>\n",
       "      <td>10335</td>\n",
       "      <td>Commercial</td>\n",
       "      <td>647.0</td>\n",
       "      <td>68.0</td>\n",
       "      <td>National Grid</td>\n",
       "    </tr>\n",
       "    <tr>\n",
       "      <th>3</th>\n",
       "      <td>11200</td>\n",
       "      <td>Commercial</td>\n",
       "      <td>32125.0</td>\n",
       "      <td>3389.0</td>\n",
       "      <td>National Grid</td>\n",
       "    </tr>\n",
       "    <tr>\n",
       "      <th>7</th>\n",
       "      <td>11274</td>\n",
       "      <td>Commercial</td>\n",
       "      <td>8364.0</td>\n",
       "      <td>882.0</td>\n",
       "      <td>National Grid</td>\n",
       "    </tr>\n",
       "    <tr>\n",
       "      <th>8</th>\n",
       "      <td>11279</td>\n",
       "      <td>Commercial</td>\n",
       "      <td>2579.0</td>\n",
       "      <td>272.0</td>\n",
       "      <td>National Grid</td>\n",
       "    </tr>\n",
       "  </tbody>\n",
       "</table>\n",
       "</div>"
      ],
      "text/plain": [
       "     zip building_type  consumption_therms  consumption_gj utility_reporter\n",
       "0  10300    Commercial               470.0            50.0    National Grid\n",
       "1  10335    Commercial               647.0            68.0    National Grid\n",
       "3  11200    Commercial             32125.0          3389.0    National Grid\n",
       "7  11274    Commercial              8364.0           882.0    National Grid\n",
       "8  11279    Commercial              2579.0           272.0    National Grid"
      ]
     },
     "execution_count": 99,
     "metadata": {},
     "output_type": "execute_result"
    }
   ],
   "source": [
    "commercial_df = nyc_gas[nyc_gas['building_type']=='Commercial']\n",
    "commercial_df.head()"
   ]
  },
  {
   "cell_type": "markdown",
   "metadata": {},
   "source": [
    "#### Once the data is in the dataframe and filtered to the Commercial Service, we can find the median for the consumption of gas in GJ for this type of user. "
   ]
  },
  {
   "cell_type": "code",
   "execution_count": 100,
   "metadata": {},
   "outputs": [
    {
     "data": {
      "text/plain": [
       "189413.0"
      ]
     },
     "execution_count": 100,
     "metadata": {},
     "output_type": "execute_result"
    }
   ],
   "source": [
    "commercial_df[\"consumption_gj\"].median()"
   ]
  },
  {
   "cell_type": "markdown",
   "metadata": {},
   "source": [
    "#### We now make a dataframe filtered to Institutional service user."
   ]
  },
  {
   "cell_type": "code",
   "execution_count": 101,
   "metadata": {
    "scrolled": true
   },
   "outputs": [
    {
     "data": {
      "text/html": [
       "<div>\n",
       "<style scoped>\n",
       "    .dataframe tbody tr th:only-of-type {\n",
       "        vertical-align: middle;\n",
       "    }\n",
       "\n",
       "    .dataframe tbody tr th {\n",
       "        vertical-align: top;\n",
       "    }\n",
       "\n",
       "    .dataframe thead th {\n",
       "        text-align: right;\n",
       "    }\n",
       "</style>\n",
       "<table border=\"1\" class=\"dataframe\">\n",
       "  <thead>\n",
       "    <tr style=\"text-align: right;\">\n",
       "      <th></th>\n",
       "      <th>zip</th>\n",
       "      <th>building_type</th>\n",
       "      <th>consumption_therms</th>\n",
       "      <th>consumption_gj</th>\n",
       "      <th>utility_reporter</th>\n",
       "    </tr>\n",
       "  </thead>\n",
       "  <tbody>\n",
       "    <tr>\n",
       "      <th>4</th>\n",
       "      <td>11200</td>\n",
       "      <td>Institutional</td>\n",
       "      <td>3605.0</td>\n",
       "      <td>380.0</td>\n",
       "      <td>National Grid</td>\n",
       "    </tr>\n",
       "    <tr>\n",
       "      <th>15</th>\n",
       "      <td>11315</td>\n",
       "      <td>Institutional</td>\n",
       "      <td>339.0</td>\n",
       "      <td>36.0</td>\n",
       "      <td>National Grid</td>\n",
       "    </tr>\n",
       "    <tr>\n",
       "      <th>27</th>\n",
       "      <td>11400</td>\n",
       "      <td>Institutional</td>\n",
       "      <td>93140.0</td>\n",
       "      <td>9827.0</td>\n",
       "      <td>National Grid</td>\n",
       "    </tr>\n",
       "    <tr>\n",
       "      <th>32</th>\n",
       "      <td>11438</td>\n",
       "      <td>Institutional</td>\n",
       "      <td>1770.0</td>\n",
       "      <td>187.0</td>\n",
       "      <td>National Grid</td>\n",
       "    </tr>\n",
       "    <tr>\n",
       "      <th>36</th>\n",
       "      <td>11468</td>\n",
       "      <td>Institutional</td>\n",
       "      <td>49184.0</td>\n",
       "      <td>5189.0</td>\n",
       "      <td>National Grid</td>\n",
       "    </tr>\n",
       "  </tbody>\n",
       "</table>\n",
       "</div>"
      ],
      "text/plain": [
       "      zip  building_type  consumption_therms  consumption_gj utility_reporter\n",
       "4   11200  Institutional              3605.0           380.0    National Grid\n",
       "15  11315  Institutional               339.0            36.0    National Grid\n",
       "27  11400  Institutional             93140.0          9827.0    National Grid\n",
       "32  11438  Institutional              1770.0           187.0    National Grid\n",
       "36  11468  Institutional             49184.0          5189.0    National Grid"
      ]
     },
     "execution_count": 101,
     "metadata": {},
     "output_type": "execute_result"
    }
   ],
   "source": [
    "institutional_df = nyc_gas[nyc_gas[\"building_type\"]=='Institutional']\n",
    "institutional_df.head()"
   ]
  },
  {
   "cell_type": "markdown",
   "metadata": {},
   "source": [
    "#### We will find the median usage of gas in GJ for this type of user, Institutional service. "
   ]
  },
  {
   "cell_type": "code",
   "execution_count": 102,
   "metadata": {},
   "outputs": [
    {
     "data": {
      "text/plain": [
       "66027.0"
      ]
     },
     "execution_count": 102,
     "metadata": {},
     "output_type": "execute_result"
    }
   ],
   "source": [
    "institutional_df[\"consumption_gj\"].median()"
   ]
  },
  {
   "cell_type": "markdown",
   "metadata": {},
   "source": [
    "#### We will use the same method to make a dataframe for the service user, small residential, and then use the consumption_gj column to get the median gas usage for this group also. "
   ]
  },
  {
   "cell_type": "code",
   "execution_count": 103,
   "metadata": {},
   "outputs": [
    {
     "data": {
      "text/html": [
       "<div>\n",
       "<style scoped>\n",
       "    .dataframe tbody tr th:only-of-type {\n",
       "        vertical-align: middle;\n",
       "    }\n",
       "\n",
       "    .dataframe tbody tr th {\n",
       "        vertical-align: top;\n",
       "    }\n",
       "\n",
       "    .dataframe thead th {\n",
       "        text-align: right;\n",
       "    }\n",
       "</style>\n",
       "<table border=\"1\" class=\"dataframe\">\n",
       "  <thead>\n",
       "    <tr style=\"text-align: right;\">\n",
       "      <th></th>\n",
       "      <th>zip</th>\n",
       "      <th>building_type</th>\n",
       "      <th>consumption_therms</th>\n",
       "      <th>consumption_gj</th>\n",
       "      <th>utility_reporter</th>\n",
       "    </tr>\n",
       "  </thead>\n",
       "  <tbody>\n",
       "    <tr>\n",
       "      <th>5</th>\n",
       "      <td>11200</td>\n",
       "      <td>Small residential</td>\n",
       "      <td>3960.0</td>\n",
       "      <td>418.0</td>\n",
       "      <td>National Grid</td>\n",
       "    </tr>\n",
       "    <tr>\n",
       "      <th>6</th>\n",
       "      <td>11254</td>\n",
       "      <td>Small residential</td>\n",
       "      <td>1896.0</td>\n",
       "      <td>200.0</td>\n",
       "      <td>National Grid</td>\n",
       "    </tr>\n",
       "    <tr>\n",
       "      <th>11</th>\n",
       "      <td>11303</td>\n",
       "      <td>Small residential</td>\n",
       "      <td>3009.0</td>\n",
       "      <td>317.0</td>\n",
       "      <td>National Grid</td>\n",
       "    </tr>\n",
       "    <tr>\n",
       "      <th>12</th>\n",
       "      <td>11313</td>\n",
       "      <td>Small residential</td>\n",
       "      <td>3488.0</td>\n",
       "      <td>368.0</td>\n",
       "      <td>National Grid</td>\n",
       "    </tr>\n",
       "    <tr>\n",
       "      <th>13</th>\n",
       "      <td>11314</td>\n",
       "      <td>Small residential</td>\n",
       "      <td>6011.0</td>\n",
       "      <td>634.0</td>\n",
       "      <td>National Grid</td>\n",
       "    </tr>\n",
       "  </tbody>\n",
       "</table>\n",
       "</div>"
      ],
      "text/plain": [
       "      zip      building_type  consumption_therms  consumption_gj  \\\n",
       "5   11200  Small residential              3960.0           418.0   \n",
       "6   11254  Small residential              1896.0           200.0   \n",
       "11  11303  Small residential              3009.0           317.0   \n",
       "12  11313  Small residential              3488.0           368.0   \n",
       "13  11314  Small residential              6011.0           634.0   \n",
       "\n",
       "   utility_reporter  \n",
       "5     National Grid  \n",
       "6     National Grid  \n",
       "11    National Grid  \n",
       "12    National Grid  \n",
       "13    National Grid  "
      ]
     },
     "execution_count": 103,
     "metadata": {},
     "output_type": "execute_result"
    }
   ],
   "source": [
    "small_residential_df = nyc_gas[nyc_gas[\"building_type\"]=='Small residential']\n",
    "small_residential_df.head()"
   ]
  },
  {
   "cell_type": "code",
   "execution_count": 104,
   "metadata": {},
   "outputs": [
    {
     "data": {
      "text/plain": [
       "599600.0"
      ]
     },
     "execution_count": 104,
     "metadata": {},
     "output_type": "execute_result"
    }
   ],
   "source": [
    "small_residential_df[\"consumption_gj\"].median()"
   ]
  },
  {
   "cell_type": "markdown",
   "metadata": {},
   "source": [
    "#### Now we will make a dataframe that combines the two building types Large Residential and large residential which are the same thing, but denoted in the dataset by different column names. Combine these into one dataframe and find the median gas usage by GJ."
   ]
  },
  {
   "cell_type": "code",
   "execution_count": 86,
   "metadata": {},
   "outputs": [
    {
     "data": {
      "text/html": [
       "<div>\n",
       "<style scoped>\n",
       "    .dataframe tbody tr th:only-of-type {\n",
       "        vertical-align: middle;\n",
       "    }\n",
       "\n",
       "    .dataframe tbody tr th {\n",
       "        vertical-align: top;\n",
       "    }\n",
       "\n",
       "    .dataframe thead th {\n",
       "        text-align: right;\n",
       "    }\n",
       "</style>\n",
       "<table border=\"1\" class=\"dataframe\">\n",
       "  <thead>\n",
       "    <tr style=\"text-align: right;\">\n",
       "      <th></th>\n",
       "      <th>zip</th>\n",
       "      <th>building_type</th>\n",
       "      <th>consumption_therms</th>\n",
       "      <th>consumption_gj</th>\n",
       "      <th>utility_reporter</th>\n",
       "    </tr>\n",
       "  </thead>\n",
       "  <tbody>\n",
       "    <tr>\n",
       "      <th>2</th>\n",
       "      <td>10360</td>\n",
       "      <td>Large residential</td>\n",
       "      <td>33762.0</td>\n",
       "      <td>3562.0</td>\n",
       "      <td>National Grid</td>\n",
       "    </tr>\n",
       "    <tr>\n",
       "      <th>9</th>\n",
       "      <td>11279</td>\n",
       "      <td>Large residential</td>\n",
       "      <td>301.0</td>\n",
       "      <td>32.0</td>\n",
       "      <td>National Grid</td>\n",
       "    </tr>\n",
       "    <tr>\n",
       "      <th>16</th>\n",
       "      <td>11315</td>\n",
       "      <td>Large residential</td>\n",
       "      <td>335091.0</td>\n",
       "      <td>35354.0</td>\n",
       "      <td>National Grid</td>\n",
       "    </tr>\n",
       "    <tr>\n",
       "      <th>20</th>\n",
       "      <td>11335</td>\n",
       "      <td>Large residential</td>\n",
       "      <td>NaN</td>\n",
       "      <td>NaN</td>\n",
       "      <td>National Grid</td>\n",
       "    </tr>\n",
       "    <tr>\n",
       "      <th>28</th>\n",
       "      <td>11400</td>\n",
       "      <td>Large residential</td>\n",
       "      <td>280.0</td>\n",
       "      <td>30.0</td>\n",
       "      <td>National Grid</td>\n",
       "    </tr>\n",
       "    <tr>\n",
       "      <th>43</th>\n",
       "      <td>11474</td>\n",
       "      <td>Large residential</td>\n",
       "      <td>2223970.0</td>\n",
       "      <td>234641.0</td>\n",
       "      <td>National Grid</td>\n",
       "    </tr>\n",
       "    <tr>\n",
       "      <th>46</th>\n",
       "      <td>11477</td>\n",
       "      <td>Large residential</td>\n",
       "      <td>493904.0</td>\n",
       "      <td>52110.0</td>\n",
       "      <td>National Grid</td>\n",
       "    </tr>\n",
       "    <tr>\n",
       "      <th>56</th>\n",
       "      <td>10467(40.877047912132, -73.871532500824)</td>\n",
       "      <td>Large Residential</td>\n",
       "      <td>4811979.0</td>\n",
       "      <td>507691.0</td>\n",
       "      <td>ConEd</td>\n",
       "    </tr>\n",
       "    <tr>\n",
       "      <th>71</th>\n",
       "      <td>10010(40.739140782121, -73.982898456399)</td>\n",
       "      <td>Large Residential</td>\n",
       "      <td>212584.0</td>\n",
       "      <td>22429.0</td>\n",
       "      <td>ConEd</td>\n",
       "    </tr>\n",
       "    <tr>\n",
       "      <th>76</th>\n",
       "      <td>11220(40.641184928741, -74.016764726711)</td>\n",
       "      <td>Large residential</td>\n",
       "      <td>6756193.0</td>\n",
       "      <td>712816.0</td>\n",
       "      <td>National Grid</td>\n",
       "    </tr>\n",
       "  </tbody>\n",
       "</table>\n",
       "</div>"
      ],
      "text/plain": [
       "                                         zip      building_type  \\\n",
       "2                                      10360  Large residential   \n",
       "9                                      11279  Large residential   \n",
       "16                                     11315  Large residential   \n",
       "20                                     11335  Large residential   \n",
       "28                                     11400  Large residential   \n",
       "43                                     11474  Large residential   \n",
       "46                                     11477  Large residential   \n",
       "56  10467(40.877047912132, -73.871532500824)  Large Residential   \n",
       "71  10010(40.739140782121, -73.982898456399)  Large Residential   \n",
       "76  11220(40.641184928741, -74.016764726711)  Large residential   \n",
       "\n",
       "    consumption_therms  consumption_gj utility_reporter  \n",
       "2              33762.0          3562.0    National Grid  \n",
       "9                301.0            32.0    National Grid  \n",
       "16            335091.0         35354.0    National Grid  \n",
       "20                 NaN             NaN    National Grid  \n",
       "28               280.0            30.0    National Grid  \n",
       "43           2223970.0        234641.0    National Grid  \n",
       "46            493904.0         52110.0    National Grid  \n",
       "56           4811979.0        507691.0            ConEd  \n",
       "71            212584.0         22429.0            ConEd  \n",
       "76           6756193.0        712816.0    National Grid  "
      ]
     },
     "execution_count": 86,
     "metadata": {},
     "output_type": "execute_result"
    }
   ],
   "source": [
    "large_residential_df = nyc_gas[nyc_gas[\"building_type\"].isin([\"Large Residential\", \"Large residential\"])]\n",
    "large_residential_df.head(10)                             "
   ]
  },
  {
   "cell_type": "code",
   "execution_count": 105,
   "metadata": {},
   "outputs": [
    {
     "data": {
      "text/plain": [
       "160960.0"
      ]
     },
     "execution_count": 105,
     "metadata": {},
     "output_type": "execute_result"
    }
   ],
   "source": [
    "large_residential_df[\"consumption_gj\"].median()"
   ]
  },
  {
   "cell_type": "markdown",
   "metadata": {},
   "source": [
    "#### It would be helpful to know the source of the utility reports that contribute to the dataset since there are a couple of reporters. We can find the different utility data reporters and then find the mean and standard deviation for utility usage for these sources. We can compare the utilities then. "
   ]
  },
  {
   "cell_type": "code",
   "execution_count": 106,
   "metadata": {},
   "outputs": [
    {
     "data": {
      "text/plain": [
       "<bound method Series.unique of 0       National Grid\n",
       "1       National Grid\n",
       "2       National Grid\n",
       "3       National Grid\n",
       "4       National Grid\n",
       "5       National Grid\n",
       "6       National Grid\n",
       "7       National Grid\n",
       "8       National Grid\n",
       "9       National Grid\n",
       "10      National Grid\n",
       "11      National Grid\n",
       "12      National Grid\n",
       "13      National Grid\n",
       "14      National Grid\n",
       "15      National Grid\n",
       "16      National Grid\n",
       "17      National Grid\n",
       "18      National Grid\n",
       "19      National Grid\n",
       "20      National Grid\n",
       "21      National Grid\n",
       "22      National Grid\n",
       "23      National Grid\n",
       "24      National Grid\n",
       "25      National Grid\n",
       "26      National Grid\n",
       "27      National Grid\n",
       "28      National Grid\n",
       "29      National Grid\n",
       "            ...      \n",
       "985     National Grid\n",
       "986             ConEd\n",
       "987     National Grid\n",
       "988             ConEd\n",
       "989     National Grid\n",
       "990     National Grid\n",
       "991     National Grid\n",
       "992             ConEd\n",
       "993     National Grid\n",
       "994             ConEd\n",
       "995             ConEd\n",
       "996     National Grid\n",
       "997     National Grid\n",
       "998             ConEd\n",
       "999             ConEd\n",
       "1000    National Grid\n",
       "1001    National Grid\n",
       "1002            ConEd\n",
       "1003    National Grid\n",
       "1004            ConEd\n",
       "1005            ConEd\n",
       "1006    National Grid\n",
       "1007            ConEd\n",
       "1008            ConEd\n",
       "1009    National Grid\n",
       "1010            ConEd\n",
       "1011            ConEd\n",
       "1012    National Grid\n",
       "1013    National Grid\n",
       "1014            ConEd\n",
       "Name: utility_reporter, Length: 1015, dtype: object>"
      ]
     },
     "execution_count": 106,
     "metadata": {},
     "output_type": "execute_result"
    }
   ],
   "source": [
    "nyc_gas['utility_reporter'].unique"
   ]
  },
  {
   "cell_type": "markdown",
   "metadata": {},
   "source": [
    "#### Make a dataframe for each of the utility providers, National Grid and ConEd\n",
    "#### with the information for zip, building type of service, consumption in therms and gj and then find mean and standard deviation for each utility provider. "
   ]
  },
  {
   "cell_type": "markdown",
   "metadata": {},
   "source": [
    "##### Here is the dataframe for National Grid provider"
   ]
  },
  {
   "cell_type": "code",
   "execution_count": 91,
   "metadata": {
    "scrolled": true
   },
   "outputs": [
    {
     "data": {
      "text/html": [
       "<div>\n",
       "<style scoped>\n",
       "    .dataframe tbody tr th:only-of-type {\n",
       "        vertical-align: middle;\n",
       "    }\n",
       "\n",
       "    .dataframe tbody tr th {\n",
       "        vertical-align: top;\n",
       "    }\n",
       "\n",
       "    .dataframe thead th {\n",
       "        text-align: right;\n",
       "    }\n",
       "</style>\n",
       "<table border=\"1\" class=\"dataframe\">\n",
       "  <thead>\n",
       "    <tr style=\"text-align: right;\">\n",
       "      <th></th>\n",
       "      <th>zip</th>\n",
       "      <th>building_type</th>\n",
       "      <th>consumption_therms</th>\n",
       "      <th>consumption_gj</th>\n",
       "      <th>utility_reporter</th>\n",
       "    </tr>\n",
       "  </thead>\n",
       "  <tbody>\n",
       "    <tr>\n",
       "      <th>0</th>\n",
       "      <td>10300</td>\n",
       "      <td>Commercial</td>\n",
       "      <td>470.0</td>\n",
       "      <td>50.0</td>\n",
       "      <td>National Grid</td>\n",
       "    </tr>\n",
       "    <tr>\n",
       "      <th>1</th>\n",
       "      <td>10335</td>\n",
       "      <td>Commercial</td>\n",
       "      <td>647.0</td>\n",
       "      <td>68.0</td>\n",
       "      <td>National Grid</td>\n",
       "    </tr>\n",
       "    <tr>\n",
       "      <th>2</th>\n",
       "      <td>10360</td>\n",
       "      <td>Large residential</td>\n",
       "      <td>33762.0</td>\n",
       "      <td>3562.0</td>\n",
       "      <td>National Grid</td>\n",
       "    </tr>\n",
       "    <tr>\n",
       "      <th>3</th>\n",
       "      <td>11200</td>\n",
       "      <td>Commercial</td>\n",
       "      <td>32125.0</td>\n",
       "      <td>3389.0</td>\n",
       "      <td>National Grid</td>\n",
       "    </tr>\n",
       "    <tr>\n",
       "      <th>4</th>\n",
       "      <td>11200</td>\n",
       "      <td>Institutional</td>\n",
       "      <td>3605.0</td>\n",
       "      <td>380.0</td>\n",
       "      <td>National Grid</td>\n",
       "    </tr>\n",
       "    <tr>\n",
       "      <th>5</th>\n",
       "      <td>11200</td>\n",
       "      <td>Small residential</td>\n",
       "      <td>3960.0</td>\n",
       "      <td>418.0</td>\n",
       "      <td>National Grid</td>\n",
       "    </tr>\n",
       "    <tr>\n",
       "      <th>6</th>\n",
       "      <td>11254</td>\n",
       "      <td>Small residential</td>\n",
       "      <td>1896.0</td>\n",
       "      <td>200.0</td>\n",
       "      <td>National Grid</td>\n",
       "    </tr>\n",
       "    <tr>\n",
       "      <th>7</th>\n",
       "      <td>11274</td>\n",
       "      <td>Commercial</td>\n",
       "      <td>8364.0</td>\n",
       "      <td>882.0</td>\n",
       "      <td>National Grid</td>\n",
       "    </tr>\n",
       "    <tr>\n",
       "      <th>8</th>\n",
       "      <td>11279</td>\n",
       "      <td>Commercial</td>\n",
       "      <td>2579.0</td>\n",
       "      <td>272.0</td>\n",
       "      <td>National Grid</td>\n",
       "    </tr>\n",
       "    <tr>\n",
       "      <th>9</th>\n",
       "      <td>11279</td>\n",
       "      <td>Large residential</td>\n",
       "      <td>301.0</td>\n",
       "      <td>32.0</td>\n",
       "      <td>National Grid</td>\n",
       "    </tr>\n",
       "  </tbody>\n",
       "</table>\n",
       "</div>"
      ],
      "text/plain": [
       "     zip      building_type  consumption_therms  consumption_gj  \\\n",
       "0  10300         Commercial               470.0            50.0   \n",
       "1  10335         Commercial               647.0            68.0   \n",
       "2  10360  Large residential             33762.0          3562.0   \n",
       "3  11200         Commercial             32125.0          3389.0   \n",
       "4  11200      Institutional              3605.0           380.0   \n",
       "5  11200  Small residential              3960.0           418.0   \n",
       "6  11254  Small residential              1896.0           200.0   \n",
       "7  11274         Commercial              8364.0           882.0   \n",
       "8  11279         Commercial              2579.0           272.0   \n",
       "9  11279  Large residential               301.0            32.0   \n",
       "\n",
       "  utility_reporter  \n",
       "0    National Grid  \n",
       "1    National Grid  \n",
       "2    National Grid  \n",
       "3    National Grid  \n",
       "4    National Grid  \n",
       "5    National Grid  \n",
       "6    National Grid  \n",
       "7    National Grid  \n",
       "8    National Grid  \n",
       "9    National Grid  "
      ]
     },
     "execution_count": 91,
     "metadata": {},
     "output_type": "execute_result"
    }
   ],
   "source": [
    "national_grid = nyc_gas[nyc_gas['utility_reporter']=='National Grid']\n",
    "national_grid.head(10)"
   ]
  },
  {
   "cell_type": "markdown",
   "metadata": {},
   "source": [
    "#### Find the mean gas consumption in GJ for the utility provider National Grid. use .mean()"
   ]
  },
  {
   "cell_type": "code",
   "execution_count": 92,
   "metadata": {},
   "outputs": [
    {
     "data": {
      "text/plain": [
       "<bound method Series.mean of 0            50.0\n",
       "1            68.0\n",
       "2          3562.0\n",
       "3          3389.0\n",
       "4           380.0\n",
       "5           418.0\n",
       "6           200.0\n",
       "7           882.0\n",
       "8           272.0\n",
       "9            32.0\n",
       "10         1376.0\n",
       "11          317.0\n",
       "12          368.0\n",
       "13          634.0\n",
       "14          899.0\n",
       "15           36.0\n",
       "16        35354.0\n",
       "17          470.0\n",
       "18          384.0\n",
       "19          400.0\n",
       "20            NaN\n",
       "21          520.0\n",
       "22          259.0\n",
       "23         1060.0\n",
       "24           87.0\n",
       "25         2307.0\n",
       "26           29.0\n",
       "27         9827.0\n",
       "28           30.0\n",
       "29         5388.0\n",
       "          ...    \n",
       "944      178172.0\n",
       "948        1410.0\n",
       "950       33431.0\n",
       "952      537491.0\n",
       "954       21263.0\n",
       "955       88593.0\n",
       "957      169596.0\n",
       "958         682.0\n",
       "967      160339.0\n",
       "968        3069.0\n",
       "969         457.0\n",
       "970       36176.0\n",
       "971     1047349.0\n",
       "973      214259.0\n",
       "978       29307.0\n",
       "985      129836.0\n",
       "987      345873.0\n",
       "989      874792.0\n",
       "990      103805.0\n",
       "991        2229.0\n",
       "993          35.0\n",
       "996      762762.0\n",
       "997       37174.0\n",
       "1000     675813.0\n",
       "1001     512976.0\n",
       "1003    1044837.0\n",
       "1006      24151.0\n",
       "1009      91274.0\n",
       "1012    4098510.0\n",
       "1013     899299.0\n",
       "Name: consumption_gj, Length: 497, dtype: float64>"
      ]
     },
     "execution_count": 92,
     "metadata": {},
     "output_type": "execute_result"
    }
   ],
   "source": [
    "national_grid['consumption_gj'].mean"
   ]
  },
  {
   "cell_type": "markdown",
   "metadata": {},
   "source": [
    "##### Find the standard deviation for the usage data for the National Grid provider. "
   ]
  },
  {
   "cell_type": "code",
   "execution_count": 93,
   "metadata": {},
   "outputs": [
    {
     "data": {
      "text/plain": [
       "<bound method Series.std of 0            50.0\n",
       "1            68.0\n",
       "2          3562.0\n",
       "3          3389.0\n",
       "4           380.0\n",
       "5           418.0\n",
       "6           200.0\n",
       "7           882.0\n",
       "8           272.0\n",
       "9            32.0\n",
       "10         1376.0\n",
       "11          317.0\n",
       "12          368.0\n",
       "13          634.0\n",
       "14          899.0\n",
       "15           36.0\n",
       "16        35354.0\n",
       "17          470.0\n",
       "18          384.0\n",
       "19          400.0\n",
       "20            NaN\n",
       "21          520.0\n",
       "22          259.0\n",
       "23         1060.0\n",
       "24           87.0\n",
       "25         2307.0\n",
       "26           29.0\n",
       "27         9827.0\n",
       "28           30.0\n",
       "29         5388.0\n",
       "          ...    \n",
       "944      178172.0\n",
       "948        1410.0\n",
       "950       33431.0\n",
       "952      537491.0\n",
       "954       21263.0\n",
       "955       88593.0\n",
       "957      169596.0\n",
       "958         682.0\n",
       "967      160339.0\n",
       "968        3069.0\n",
       "969         457.0\n",
       "970       36176.0\n",
       "971     1047349.0\n",
       "973      214259.0\n",
       "978       29307.0\n",
       "985      129836.0\n",
       "987      345873.0\n",
       "989      874792.0\n",
       "990      103805.0\n",
       "991        2229.0\n",
       "993          35.0\n",
       "996      762762.0\n",
       "997       37174.0\n",
       "1000     675813.0\n",
       "1001     512976.0\n",
       "1003    1044837.0\n",
       "1006      24151.0\n",
       "1009      91274.0\n",
       "1012    4098510.0\n",
       "1013     899299.0\n",
       "Name: consumption_gj, Length: 497, dtype: float64>"
      ]
     },
     "execution_count": 93,
     "metadata": {},
     "output_type": "execute_result"
    }
   ],
   "source": [
    "national_grid['consumption_gj'].std"
   ]
  },
  {
   "cell_type": "markdown",
   "metadata": {},
   "source": [
    "#### Now make the dataframe for the data that pertains to ConEd utility provider, find mean and standard deviation and the information can be compared for the utility providers. "
   ]
  },
  {
   "cell_type": "code",
   "execution_count": 110,
   "metadata": {},
   "outputs": [
    {
     "data": {
      "text/html": [
       "<div>\n",
       "<style scoped>\n",
       "    .dataframe tbody tr th:only-of-type {\n",
       "        vertical-align: middle;\n",
       "    }\n",
       "\n",
       "    .dataframe tbody tr th {\n",
       "        vertical-align: top;\n",
       "    }\n",
       "\n",
       "    .dataframe thead th {\n",
       "        text-align: right;\n",
       "    }\n",
       "</style>\n",
       "<table border=\"1\" class=\"dataframe\">\n",
       "  <thead>\n",
       "    <tr style=\"text-align: right;\">\n",
       "      <th></th>\n",
       "      <th>zip</th>\n",
       "      <th>building_type</th>\n",
       "      <th>consumption_therms</th>\n",
       "      <th>consumption_gj</th>\n",
       "      <th>utility_reporter</th>\n",
       "    </tr>\n",
       "  </thead>\n",
       "  <tbody>\n",
       "    <tr>\n",
       "      <th>51</th>\n",
       "      <td>11109(40.744414792409, -73.957702346686)</td>\n",
       "      <td>Commercial</td>\n",
       "      <td>45899.0</td>\n",
       "      <td>4843.0</td>\n",
       "      <td>ConEd</td>\n",
       "    </tr>\n",
       "    <tr>\n",
       "      <th>52</th>\n",
       "      <td>11429(40.709913120494, -73.738640316098)</td>\n",
       "      <td>Commercial</td>\n",
       "      <td>755.0</td>\n",
       "      <td>80.0</td>\n",
       "      <td>ConEd</td>\n",
       "    </tr>\n",
       "    <tr>\n",
       "      <th>56</th>\n",
       "      <td>10467(40.877047912132, -73.871532500824)</td>\n",
       "      <td>Large Residential</td>\n",
       "      <td>4811979.0</td>\n",
       "      <td>507691.0</td>\n",
       "      <td>ConEd</td>\n",
       "    </tr>\n",
       "    <tr>\n",
       "      <th>59</th>\n",
       "      <td>10003(40.731943947555, -73.98887214913)</td>\n",
       "      <td>Residential</td>\n",
       "      <td>3229606.0</td>\n",
       "      <td>340742.0</td>\n",
       "      <td>ConEd</td>\n",
       "    </tr>\n",
       "    <tr>\n",
       "      <th>61</th>\n",
       "      <td>10451(40.820696407114, -73.923841367985)</td>\n",
       "      <td>Commercial</td>\n",
       "      <td>8071587.0</td>\n",
       "      <td>851598.0</td>\n",
       "      <td>ConEd</td>\n",
       "    </tr>\n",
       "    <tr>\n",
       "      <th>62</th>\n",
       "      <td>10468(40.869693003729, -73.898926992487)</td>\n",
       "      <td>Residential</td>\n",
       "      <td>907812.0</td>\n",
       "      <td>95779.0</td>\n",
       "      <td>ConEd</td>\n",
       "    </tr>\n",
       "    <tr>\n",
       "      <th>68</th>\n",
       "      <td>10034(40.870617109292, -73.924223258796)</td>\n",
       "      <td>Residential</td>\n",
       "      <td>226754.0</td>\n",
       "      <td>23924.0</td>\n",
       "      <td>ConEd</td>\n",
       "    </tr>\n",
       "    <tr>\n",
       "      <th>69</th>\n",
       "      <td>11422(40.661613493968, -73.736051726406)</td>\n",
       "      <td>Commercial</td>\n",
       "      <td>295.0</td>\n",
       "      <td>31.0</td>\n",
       "      <td>ConEd</td>\n",
       "    </tr>\n",
       "    <tr>\n",
       "      <th>70</th>\n",
       "      <td>10044(40.761976486226, -73.949999674945)</td>\n",
       "      <td>Residential</td>\n",
       "      <td>93171.0</td>\n",
       "      <td>9830.0</td>\n",
       "      <td>ConEd</td>\n",
       "    </tr>\n",
       "    <tr>\n",
       "      <th>71</th>\n",
       "      <td>10010(40.739140782121, -73.982898456399)</td>\n",
       "      <td>Large Residential</td>\n",
       "      <td>212584.0</td>\n",
       "      <td>22429.0</td>\n",
       "      <td>ConEd</td>\n",
       "    </tr>\n",
       "  </tbody>\n",
       "</table>\n",
       "</div>"
      ],
      "text/plain": [
       "                                         zip      building_type  \\\n",
       "51  11109(40.744414792409, -73.957702346686)         Commercial   \n",
       "52  11429(40.709913120494, -73.738640316098)         Commercial   \n",
       "56  10467(40.877047912132, -73.871532500824)  Large Residential   \n",
       "59   10003(40.731943947555, -73.98887214913)        Residential   \n",
       "61  10451(40.820696407114, -73.923841367985)         Commercial   \n",
       "62  10468(40.869693003729, -73.898926992487)        Residential   \n",
       "68  10034(40.870617109292, -73.924223258796)        Residential   \n",
       "69  11422(40.661613493968, -73.736051726406)         Commercial   \n",
       "70  10044(40.761976486226, -73.949999674945)        Residential   \n",
       "71  10010(40.739140782121, -73.982898456399)  Large Residential   \n",
       "\n",
       "    consumption_therms  consumption_gj utility_reporter  \n",
       "51             45899.0          4843.0            ConEd  \n",
       "52               755.0            80.0            ConEd  \n",
       "56           4811979.0        507691.0            ConEd  \n",
       "59           3229606.0        340742.0            ConEd  \n",
       "61           8071587.0        851598.0            ConEd  \n",
       "62            907812.0         95779.0            ConEd  \n",
       "68            226754.0         23924.0            ConEd  \n",
       "69               295.0            31.0            ConEd  \n",
       "70             93171.0          9830.0            ConEd  \n",
       "71            212584.0         22429.0            ConEd  "
      ]
     },
     "execution_count": 110,
     "metadata": {},
     "output_type": "execute_result"
    }
   ],
   "source": [
    "coned = nyc_gas[nyc_gas['utility_reporter']=='ConEd']\n",
    "coned.head(10)"
   ]
  },
  {
   "cell_type": "markdown",
   "metadata": {},
   "source": [
    "##### Calculate mean for the data"
   ]
  },
  {
   "cell_type": "code",
   "execution_count": 111,
   "metadata": {},
   "outputs": [
    {
     "data": {
      "text/plain": [
       "<bound method Series.mean of 51         4843.0\n",
       "52           80.0\n",
       "56       507691.0\n",
       "59       340742.0\n",
       "61       851598.0\n",
       "62        95779.0\n",
       "68        23924.0\n",
       "69           31.0\n",
       "70         9830.0\n",
       "71        22429.0\n",
       "72        42801.0\n",
       "74       151242.0\n",
       "77         3854.0\n",
       "78        19293.0\n",
       "80        49791.0\n",
       "81       103574.0\n",
       "85        15944.0\n",
       "86       446301.0\n",
       "88        38711.0\n",
       "90       264430.0\n",
       "91       179125.0\n",
       "92       758591.0\n",
       "93         1884.0\n",
       "94       141014.0\n",
       "98         1646.0\n",
       "99       475734.0\n",
       "100      761154.0\n",
       "101      189461.0\n",
       "102       24848.0\n",
       "104        1547.0\n",
       "          ...    \n",
       "963           NaN\n",
       "964       15702.0\n",
       "965      368147.0\n",
       "966       19263.0\n",
       "972      391284.0\n",
       "974          49.0\n",
       "975       33331.0\n",
       "976       11736.0\n",
       "977      216428.0\n",
       "979           NaN\n",
       "980       32998.0\n",
       "981      134734.0\n",
       "982      158368.0\n",
       "983      273728.0\n",
       "984      731278.0\n",
       "986      249819.0\n",
       "988       49547.0\n",
       "992      510821.0\n",
       "994        1441.0\n",
       "995      838312.0\n",
       "998      170908.0\n",
       "999      828392.0\n",
       "1002          NaN\n",
       "1004      64121.0\n",
       "1005     109181.0\n",
       "1007       7828.0\n",
       "1008      42582.0\n",
       "1010    1143922.0\n",
       "1011       6044.0\n",
       "1014     329463.0\n",
       "Name: consumption_gj, Length: 518, dtype: float64>"
      ]
     },
     "execution_count": 111,
     "metadata": {},
     "output_type": "execute_result"
    }
   ],
   "source": [
    "coned['consumption_gj'].mean"
   ]
  },
  {
   "cell_type": "markdown",
   "metadata": {},
   "source": [
    "##### Calculate standard deviation"
   ]
  },
  {
   "cell_type": "code",
   "execution_count": 113,
   "metadata": {},
   "outputs": [
    {
     "data": {
      "text/plain": [
       "<bound method Series.std of 51         4843.0\n",
       "52           80.0\n",
       "56       507691.0\n",
       "59       340742.0\n",
       "61       851598.0\n",
       "62        95779.0\n",
       "68        23924.0\n",
       "69           31.0\n",
       "70         9830.0\n",
       "71        22429.0\n",
       "72        42801.0\n",
       "74       151242.0\n",
       "77         3854.0\n",
       "78        19293.0\n",
       "80        49791.0\n",
       "81       103574.0\n",
       "85        15944.0\n",
       "86       446301.0\n",
       "88        38711.0\n",
       "90       264430.0\n",
       "91       179125.0\n",
       "92       758591.0\n",
       "93         1884.0\n",
       "94       141014.0\n",
       "98         1646.0\n",
       "99       475734.0\n",
       "100      761154.0\n",
       "101      189461.0\n",
       "102       24848.0\n",
       "104        1547.0\n",
       "          ...    \n",
       "963           NaN\n",
       "964       15702.0\n",
       "965      368147.0\n",
       "966       19263.0\n",
       "972      391284.0\n",
       "974          49.0\n",
       "975       33331.0\n",
       "976       11736.0\n",
       "977      216428.0\n",
       "979           NaN\n",
       "980       32998.0\n",
       "981      134734.0\n",
       "982      158368.0\n",
       "983      273728.0\n",
       "984      731278.0\n",
       "986      249819.0\n",
       "988       49547.0\n",
       "992      510821.0\n",
       "994        1441.0\n",
       "995      838312.0\n",
       "998      170908.0\n",
       "999      828392.0\n",
       "1002          NaN\n",
       "1004      64121.0\n",
       "1005     109181.0\n",
       "1007       7828.0\n",
       "1008      42582.0\n",
       "1010    1143922.0\n",
       "1011       6044.0\n",
       "1014     329463.0\n",
       "Name: consumption_gj, Length: 518, dtype: float64>"
      ]
     },
     "execution_count": 113,
     "metadata": {},
     "output_type": "execute_result"
    }
   ],
   "source": [
    "coned['consumption_gj'].std"
   ]
  },
  {
   "cell_type": "markdown",
   "metadata": {},
   "source": [
    "#### Now we have been able to compare the median usage for the types of buildings by the service type and compare the mean usage and standard deviation for the two different utility providers National Grid and ConEd. This helps us usefully see information to make more informed decisions regarding the Gas Service. "
   ]
  },
  {
   "cell_type": "markdown",
   "metadata": {},
   "source": [
    "#### Suggestions for Improvement\n",
    "\n",
    "##### The zip codes were noted with what looks like the range, so the we could have a more uniform input or fix for this value. \n",
    "\n",
    "#####  Another thing that could be changed would be to change all numbers to integer not float so there were no decimals. "
   ]
  },
  {
   "cell_type": "code",
   "execution_count": null,
   "metadata": {},
   "outputs": [],
   "source": []
  }
 ],
 "metadata": {
  "kernelspec": {
   "display_name": "Python 3",
   "language": "python",
   "name": "python3"
  },
  "language_info": {
   "codemirror_mode": {
    "name": "ipython",
    "version": 3
   },
   "file_extension": ".py",
   "mimetype": "text/x-python",
   "name": "python",
   "nbconvert_exporter": "python",
   "pygments_lexer": "ipython3",
   "version": "3.7.3"
  }
 },
 "nbformat": 4,
 "nbformat_minor": 2
}
